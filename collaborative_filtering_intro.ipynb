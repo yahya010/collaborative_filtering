{
 "cells": [
  {
   "cell_type": "markdown",
   "id": "b0003cb4-18fb-4ad8-b5d7-24a1626e066c",
   "metadata": {
    "editable": true,
    "slideshow": {
     "slide_type": ""
    },
    "tags": []
   },
   "source": [
    "# Collaborative filtering project\n",
    "\n",
    "In this project, the task is to create a paper recommendation system. The system consists of 10,000 scientists and 1,000 papers. Scientists give ratings between 1–5 to the papers that they read. Since not all scientists have read every paper, we only have a limited amount of observations of these ratings. Additionally, each scientist has a wishlist of papers that they would like to read in the future. Your task is to fill in the missing observations using the provided rating and wishlist data, such that we can recommend papers to scientists that we expect them to rate highly.\n",
    "\n",
    "More specifically, there are three data sources:\n",
    " - `train_tbr.csv` containing wishlist data.\n",
    " - `train_ratings.csv` containing observed rating data.\n",
    " - `sample_submission.csv` containing (scientist, paper) pairs that have to be rated for the evaluation of your method.\n",
    "\n",
    "The data is available at `/cluster/courses/cil/collaborative_filtering/data` and an environment has been prepared for you at `/cluster/courses/cil/envs/collaborative_filtering`. You can activate the environment in your shell by running:\n",
    "```bash\n",
    "conda activate /cluster/courses/cil/envs/collaborative_filtering\n",
    "```\n",
    "If you wish to use notebooks on the cluster, you need to set the Environment path to `/cluster/courses/cil/envs/collaborative_filtering/bin` and load the `cuda/12.6` module.\n",
    "\n",
    "**Evaluation**: Your models are evaluated using the root mean-squared error (RMSE) metric. Your grade is determined by a linear interpolation between the easy (grade 4) and hard (grade 6) baselines.\n",
    "\n",
    "**Rules**: You are only allowed to use the data provided in `train_tbr.csv` and `train_ratings.csv` to make your predictions of `sample_submission.csv`. You are not allowed to use external data sources. But, you are allowed to use pre-trained models, as long as they are available publicly. Furthermore, no external API calls are allowed, except for downloading the weights of pre-trained models.\n",
    "\n",
    "**We will verify your code for plagiarism and using solutions from previous years.**\n",
    "\n",
    "[Link to Kaggle competition](https://www.kaggle.com/competitions/ethz-cil-collaborative-filtering-2025)\n"
   ]
  },
  {
   "cell_type": "code",
   "execution_count": 1,
   "id": "d799b9af-d742-4cac-a937-06102e652812",
   "metadata": {},
   "outputs": [],
   "source": [
    "from typing import Tuple, Callable\n",
    "\n",
    "import pandas as pd\n",
    "import numpy as np\n",
    "import torch\n",
    "import torch.nn as nn\n",
    "import torch.nn.functional as F\n",
    "import matplotlib.pyplot as plt\n",
    "from sklearn.model_selection import train_test_split\n",
    "from sklearn.metrics import root_mean_squared_error\n",
    "import os"
   ]
  },
  {
   "cell_type": "markdown",
   "id": "0063fd35-caac-4ced-b13e-b49cfb58d9a2",
   "metadata": {},
   "source": [
    "Make sure that results are reproducible by using a seed."
   ]
  },
  {
   "cell_type": "code",
   "execution_count": 2,
   "id": "e73627bd-1106-4276-a498-32b44f1b5c0c",
   "metadata": {},
   "outputs": [],
   "source": [
    "SEED = 42\n",
    "torch.manual_seed(SEED)\n",
    "np.random.seed(SEED)"
   ]
  },
  {
   "cell_type": "markdown",
   "id": "00b5b6d6-37ed-40d1-b651-962c611a22c3",
   "metadata": {},
   "source": [
    "## Helper functions"
   ]
  },
  {
   "cell_type": "code",
   "execution_count": 3,
   "id": "b93bc867-b2d9-4cf7-9bb8-ecb13c663eb3",
   "metadata": {},
   "outputs": [],
   "source": [
    "DATA_DIR = \"data\"\n",
    "\n",
    "\n",
    "def read_data_df() -> Tuple[pd.DataFrame, pd.DataFrame]:\n",
    "    \"\"\"Reads in data and splits it into training and validation sets with a 75/25 split.\"\"\"\n",
    "    \n",
    "    df = pd.read_csv(os.path.join(DATA_DIR, \"train_ratings.csv\"))\n",
    "\n",
    "    # Split sid_pid into sid and pid columns\n",
    "    df[[\"sid\", \"pid\"]] = df[\"sid_pid\"].str.split(\"_\", expand=True)\n",
    "    df = df.drop(\"sid_pid\", axis=1)\n",
    "    df[\"sid\"] = df[\"sid\"].astype(int)\n",
    "    df[\"pid\"] = df[\"pid\"].astype(int)\n",
    "    \n",
    "    # Split into train and validation dataset\n",
    "    train_df, valid_df = train_test_split(df, test_size=0.25)\n",
    "    return train_df, valid_df\n",
    "\n",
    "\n",
    "def read_data_matrix(df: pd.DataFrame) -> np.ndarray:\n",
    "    \"\"\"Returns matrix view of the training data, where columns are scientists (sid) and\n",
    "    rows are papers (pid).\"\"\"\n",
    "\n",
    "    return df.pivot(index=\"sid\", columns=\"pid\", values=\"rating\").values\n",
    "\n",
    "\n",
    "def evaluate(valid_df: pd.DataFrame, pred_fn: Callable[[np.ndarray, np.ndarray], np.ndarray]) -> float:\n",
    "    \"\"\"\n",
    "    Inputs:\n",
    "        valid_df: Validation data, returned from read_data_df for example.\n",
    "        pred_fn: Function that takes in arrays of sid and pid and outputs their rating predictions.\n",
    "\n",
    "    Outputs: Validation RMSE\n",
    "    \"\"\"\n",
    "    \n",
    "    preds = pred_fn(valid_df[\"sid\"].values, valid_df[\"pid\"].values)\n",
    "    return root_mean_squared_error(valid_df[\"rating\"].values, preds)\n",
    "\n",
    "\n",
    "def make_submission(pred_fn: Callable[[np.ndarray, np.ndarray], np.ndarray], filename: os.PathLike):\n",
    "    \"\"\"Makes a submission CSV file that can be submitted to kaggle.\n",
    "\n",
    "    Inputs:\n",
    "        pred_fn: Function that takes in arrays of sid and pid and outputs a score.\n",
    "        filename: File to save the submission to.\n",
    "    \"\"\"\n",
    "    \n",
    "    df = pd.read_csv(os.path.join(DATA_DIR, \"sample_submission.csv\"))\n",
    "\n",
    "    # Get sids and pids\n",
    "    sid_pid = df[\"sid_pid\"].str.split(\"_\", expand=True)\n",
    "    sids = sid_pid[0]\n",
    "    pids = sid_pid[1]\n",
    "    sids = sids.astype(int).values\n",
    "    pids = pids.astype(int).values\n",
    "    \n",
    "    df[\"rating\"] = pred_fn(sids, pids)\n",
    "    df.to_csv(filename, index=False)"
   ]
  },
  {
   "cell_type": "markdown",
   "id": "4deb53ec-a5aa-408c-b6a5-118ffe14c035",
   "metadata": {},
   "source": [
    "## Singular value decomposition\n",
    "\n",
    "For the first method in this introduction, we will make use of the singular value decomposition (SVD) to construct the optimal rank-$k$ approximation (when measuring the Frobenius norm as error), according to the Eckart-Young theorem. Since the matrix needs to be fully observed in order to make use of SVD, we need to impute the missing values. In this case, we impute values with $3$."
   ]
  },
  {
   "cell_type": "code",
   "execution_count": 4,
   "id": "3495d53a-ec1e-4692-a19b-6d8aa5fcf88f",
   "metadata": {},
   "outputs": [],
   "source": [
    "def impute_values(mat: np.ndarray) -> np.ndarray:\n",
    "    return np.nan_to_num(mat, nan=3.0)"
   ]
  },
  {
   "cell_type": "code",
   "execution_count": 5,
   "id": "a08ecda7-3e44-4d99-894d-6927a12fe54e",
   "metadata": {},
   "outputs": [],
   "source": [
    "train_df, valid_df = read_data_df()\n",
    "train_mat = read_data_matrix(train_df)\n",
    "train_mat = impute_values(train_mat)"
   ]
  },
  {
   "cell_type": "markdown",
   "id": "5a0f457d-7dd2-448e-8282-792904b67298",
   "metadata": {},
   "source": [
    "### Singular value spectrum\n",
    "\n",
    "In order to assess which rank $k$ to use for the reconstruction matrix, we look at the spectrum of singular values and look for the \"elbow\". In this case, we will use $k=2$."
   ]
  },
  {
   "cell_type": "code",
   "execution_count": 6,
   "id": "8d0f8500-fb85-4bf4-a609-eb8a366587d1",
   "metadata": {},
   "outputs": [
    {
     "data": {
      "image/png": "[encoded data removed]",
      "text/plain": [
       "<Figure size 640x480 with 1 Axes>"
      ]
     },
     "metadata": {},
     "output_type": "display_data"
    }
   ],
   "source": [
    "singular_values = np.linalg.svd(train_mat, compute_uv=False, hermitian=False)\n",
    "plt.plot(singular_values)\n",
    "plt.xlabel(\"Index\")\n",
    "plt.ylabel(\"Value\")\n",
    "plt.title(\"Singular value spectrum\")\n",
    "plt.show()"
   ]
  },
  {
   "cell_type": "code",
   "execution_count": 7,
   "id": "1a1d01ab-b4bd-43b4-8e3a-d60e94ac2c31",
   "metadata": {},
   "outputs": [],
   "source": [
    "def opt_rank_k_approximation(m: np.ndarray, k: int):\n",
    "    \"\"\"Returns the optimal rank-k reconstruction matrix, using SVD.\"\"\"\n",
    "    \n",
    "    assert 0 < k <= np.min(m.shape), f\"The rank must be in [0, min(m, n)]\"\n",
    "    \n",
    "    U, S, Vh = np.linalg.svd(m, full_matrices=False)\n",
    "    \n",
    "    U_k = U[:, :k]\n",
    "    S_k = S[:k]\n",
    "    Vh_k = Vh[:k]\n",
    "    \n",
    "    return np.dot(U_k * S_k, Vh_k)\n",
    "\n",
    "\n",
    "def matrix_pred_fn(train_recon: np.ndarray, sids: np.ndarray, pids: np.ndarray) -> np.ndarray:\n",
    "    \"\"\"\n",
    "    Input:\n",
    "        train_recon: (M, N) matrix with predicted values for every (sid, pid) pair.\n",
    "        sids: (D,) vector with integer scientist IDs.\n",
    "        pids: (D,) vector with integer paper IDs.\n",
    "        \n",
    "    Outputs: (D,) vector with predictions.\n",
    "    \"\"\"\n",
    "    \n",
    "    return train_recon[sids, pids]"
   ]
  },
  {
   "cell_type": "markdown",
   "id": "1dfad6c5-2a84-4587-a6da-1232cb8fd9fe",
   "metadata": {},
   "source": [
    "We first obtain the optimal rank-$k$ approximation of the training matrix."
   ]
  },
  {
   "cell_type": "code",
   "execution_count": 8,
   "id": "79b10471-3beb-4809-9bb5-191005b8bcfe",
   "metadata": {},
   "outputs": [],
   "source": [
    "train_recon = opt_rank_k_approximation(train_mat, k=2)"
   ]
  },
  {
   "cell_type": "markdown",
   "id": "1df305d5-6b2a-484a-ab63-dd8911870b6c",
   "metadata": {},
   "source": [
    "Then, the values of this matrix reconstruction are the predictions for all (sid, pid)-pairs."
   ]
  },
  {
   "cell_type": "code",
   "execution_count": 9,
   "id": "1d3560ac-e1df-46c5-8da3-335786b49b77",
   "metadata": {},
   "outputs": [
    {
     "name": "stdout",
     "output_type": "stream",
     "text": [
      "Validation RMSE: 1.205\n"
     ]
    }
   ],
   "source": [
    "pred_fn = lambda sids, pids: matrix_pred_fn(train_recon, sids, pids)\n",
    "\n",
    "# Evaluate on validation data\n",
    "val_score = evaluate(valid_df, pred_fn)\n",
    "print(f\"Validation RMSE: {val_score:.3f}\")"
   ]
  },
  {
   "cell_type": "code",
   "execution_count": 10,
   "id": "0c152631-47f5-4b8a-a1a6-90b856d922c1",
   "metadata": {},
   "outputs": [],
   "source": [
    "make_submission(pred_fn, \"svd_submission.csv\")"
   ]
  },
  {
   "cell_type": "markdown",
   "id": "cdcc1599-f85a-4684-a608-1c7b98ee1c95",
   "metadata": {},
   "source": [
    "## Learned embeddings\n",
    "\n",
    "Next, we will take a machine learning view of the problem. To each scientist and paper, we assign a $d$-dimensional embedding and we predict the rating that the scientist gives the paper to be their dot product. More formally, let $\\vec{s}_i$ be a scientist embedding and $\\vec{p}_j$ be a paper embedding. Then, we make the following rating prediction for this pair: $$\\tilde{r}_{ij} = \\langle \\vec{s}_i, \\vec{p}_j \\rangle.$$ We view these embeddings as our learnable parameters and train them as we would any other model using the squared error loss function: $$\\ell(\\theta) = \\frac{1}{2} |\\langle \\vec{s}_i, \\vec{p}_j \\rangle - r_{ij}|^2,$$ where $\\theta = \\{ \\vec{s}_i \\}_{i=1}^n \\cup \\{ \\vec{p}_j \\}_{j=1}^m$. The following is an implementation of this method."
   ]
  },
  {
   "cell_type": "code",
   "execution_count": 11,
   "id": "67fcd1d8-93dc-45e7-9706-554b9d1edc69",
   "metadata": {},
   "outputs": [
    {
     "name": "stdout",
     "output_type": "stream",
     "text": [
      "Using: cpu\n"
     ]
    }
   ],
   "source": [
    "device = torch.device(\"cuda\" if torch.cuda.is_available() else \"cpu\")\n",
    "print(f\"Using: {device}\")"
   ]
  },
  {
   "cell_type": "code",
   "execution_count": 12,
   "id": "30c1d236-0b95-4a68-9447-4ad7042d5a6d",
   "metadata": {},
   "outputs": [],
   "source": [
    "class EmbeddingDotProductModel(nn.Module):\n",
    "    def __init__(self, num_scientists: int, num_papers: int, dim: int):\n",
    "        super().__init__()\n",
    "\n",
    "        # Assign to each scientist and paper an embedding\n",
    "        self.scientist_emb = nn.Embedding(num_scientists, dim)\n",
    "        self.paper_emb = nn.Embedding(num_papers, dim)\n",
    "        \n",
    "    def forward(self, sid: torch.Tensor, pid: torch.Tensor) -> torch.Tensor:\n",
    "        \"\"\"\n",
    "        Inputs:\n",
    "            sid: [B,], int\n",
    "            pid: [B,], int\n",
    "        \n",
    "        Outputs: [B,], float\n",
    "        \"\"\"\n",
    "\n",
    "        # Per-pair dot product\n",
    "        return torch.sum(self.scientist_emb(sid) * self.paper_emb(pid), dim=-1)"
   ]
  },
  {
   "cell_type": "markdown",
   "id": "135658a9-8890-4e1e-a5ae-a500e7fc0da2",
   "metadata": {},
   "source": [
    "Set $d=32$."
   ]
  },
  {
   "cell_type": "code",
   "execution_count": 13,
   "id": "5637bee3-2b0c-425e-b6b1-e13547d5ade7",
   "metadata": {},
   "outputs": [],
   "source": [
    "# Define model (10k scientists, 1k papers, 32-dimensional embeddings) and optimizer\n",
    "model = EmbeddingDotProductModel(10_000, 1_000, 32).to(device)\n",
    "optim = torch.optim.Adam(model.parameters(), lr=1e-3)"
   ]
  },
  {
   "cell_type": "code",
   "execution_count": 14,
   "id": "2e866a9d-d5c6-40f1-b27f-d934eb6a5406",
   "metadata": {},
   "outputs": [],
   "source": [
    "def get_dataset(df: pd.DataFrame) -> torch.utils.data.Dataset:\n",
    "    \"\"\"Conversion from pandas data frame to torch dataset.\"\"\"\n",
    "    \n",
    "    sids = torch.from_numpy(df[\"sid\"].to_numpy())\n",
    "    pids = torch.from_numpy(df[\"pid\"].to_numpy())\n",
    "    ratings = torch.from_numpy(df[\"rating\"].to_numpy()).float()\n",
    "    return torch.utils.data.TensorDataset(sids, pids, ratings)"
   ]
  },
  {
   "cell_type": "code",
   "execution_count": 15,
   "id": "e05764b4-5103-40fa-8910-3d84ea28a6f3",
   "metadata": {},
   "outputs": [],
   "source": [
    "train_dataset = get_dataset(train_df)\n",
    "valid_dataset = get_dataset(valid_df)\n",
    "train_loader = torch.utils.data.DataLoader(train_dataset, batch_size=64, shuffle=True)\n",
    "valid_loader = torch.utils.data.DataLoader(valid_dataset, batch_size=64, shuffle=False)"
   ]
  },
  {
   "cell_type": "markdown",
   "id": "b8240462-5fc0-4c51-8e84-1082da8bf295",
   "metadata": {},
   "source": [
    "Training loop, which we run for 5 epochs."
   ]
  },
  {
   "cell_type": "code",
   "execution_count": 16,
   "id": "085034ab-cb5a-444a-bcf4-a505cfd17e9a",
   "metadata": {},
   "outputs": [
    {
     "name": "stdout",
     "output_type": "stream",
     "text": [
      "[Epoch 1/5] Train loss=34.200, Valid RMSE=2.645\n",
      "[Epoch 2/5] Train loss=16.805, Valid RMSE=2.237\n",
      "[Epoch 3/5] Train loss=3.165, Valid RMSE=1.158\n",
      "[Epoch 4/5] Train loss=1.029, Valid RMSE=0.989\n",
      "[Epoch 5/5] Train loss=0.879, Valid RMSE=0.955\n"
     ]
    }
   ],
   "source": [
    "NUM_EPOCHS = 5\n",
    "for epoch in range(NUM_EPOCHS):\n",
    "    # Train model for an epoch\n",
    "    total_loss = 0.0\n",
    "    total_data = 0\n",
    "    model.train()\n",
    "    for sid, pid, ratings in train_loader:\n",
    "        # Move data to GPU\n",
    "        sid = sid.to(device)\n",
    "        pid = pid.to(device)\n",
    "        ratings = ratings.to(device)\n",
    "\n",
    "        # Make prediction and compute loss\n",
    "        pred = model(sid, pid)\n",
    "        loss = F.mse_loss(pred, ratings)\n",
    "\n",
    "        # Compute gradients w.r.t. loss and take a step in that direction\n",
    "        optim.zero_grad()\n",
    "        loss.backward()\n",
    "        optim.step()\n",
    "\n",
    "        # Keep track of running loss\n",
    "        total_data += len(sid)\n",
    "        total_loss += len(sid) * loss.item()\n",
    "\n",
    "    # Evaluate model on validation data\n",
    "    total_val_mse = 0.0\n",
    "    total_val_data = 0\n",
    "    model.eval()\n",
    "    for sid, pid, ratings in valid_loader:\n",
    "        # Move data to GPU\n",
    "        sid = sid.to(device)\n",
    "        pid = pid.to(device)\n",
    "        ratings = ratings.to(device)\n",
    "\n",
    "        # Clamp predictions in [1,5], since all ground-truth ratings are\n",
    "        pred = model(sid, pid).clamp(1, 5)\n",
    "        mse = F.mse_loss(pred, ratings)\n",
    "\n",
    "        # Keep track of running metrics\n",
    "        total_val_data += len(sid)\n",
    "        total_val_mse += len(sid) * mse.item()\n",
    "\n",
    "    print(f\"[Epoch {epoch+1}/{NUM_EPOCHS}] Train loss={total_loss / total_data:.3f}, Valid RMSE={(total_val_mse / total_val_data) ** 0.5:.3f}\")"
   ]
  },
  {
   "cell_type": "markdown",
   "id": "899f051b-6854-4fc4-a380-2f6951768ee4",
   "metadata": {},
   "source": [
    "As we can see, this method already provides an improvement on the validation dataset over the naive SVD method."
   ]
  },
  {
   "cell_type": "code",
   "execution_count": 17,
   "id": "b73bec67-2ee0-4683-beb1-a102dac072d4",
   "metadata": {},
   "outputs": [
    {
     "name": "stdout",
     "output_type": "stream",
     "text": [
      "Validation RMSE: 0.955\n"
     ]
    }
   ],
   "source": [
    "pred_fn = lambda sids, pids: model(torch.from_numpy(sids).to(device), torch.from_numpy(pids).to(device)).clamp(1, 5).cpu().numpy()\n",
    "\n",
    "# Evaluate on validation data\n",
    "with torch.no_grad():\n",
    "    val_score = evaluate(valid_df, pred_fn)\n",
    "\n",
    "print(f\"Validation RMSE: {val_score:.3f}\")"
   ]
  },
  {
   "cell_type": "code",
   "execution_count": 18,
   "id": "6f42b995-2e08-4cfc-90aa-1b59a7e9fd69",
   "metadata": {},
   "outputs": [],
   "source": [
    "with torch.no_grad():\n",
    "    make_submission(pred_fn, \"learned_embedding_submission.csv\")"
   ]
  },
  {
   "cell_type": "markdown",
   "id": "3aeae800-f6d7-4182-9b7e-aa080e92d87e",
   "metadata": {},
   "source": [
    "## Outlook\n",
    "\n",
    "To further improve the score, students can make use of the information in `train_tbr.csv`, which contains the papers that scientists want to read. Furthermore, students can look into more modern collaborative filtering methods and techniques.\n",
    "\n",
    "Have fun :)"
   ]
  },
  {
   "cell_type": "markdown",
   "id": "38eac592",
   "metadata": {},
   "source": [
    "iterative SVD"
   ]
  },
  {
   "cell_type": "code",
   "execution_count": 19,
   "id": "57fdd37c-3c98-497e-881b-29ce59f88d13",
   "metadata": {},
   "outputs": [],
   "source": [
    "def iterative_svd(df, k=2, max_iterations=10, tolerance=0.001):\n",
    "    \"\"\"\n",
    "    Performs iterative SVD to improve missing value imputation.\n",
    "    \n",
    "    Args:\n",
    "        df: DataFrame containing ratings\n",
    "        k: Rank of the approximation\n",
    "        max_iterations: Maximum number of iterations\n",
    "        tolerance: Convergence threshold\n",
    "        \n",
    "    Returns:\n",
    "        Reconstructed matrix with predicted ratings\n",
    "    \"\"\"\n",
    "    # Get initial matrix view with missing values\n",
    "    mat = read_data_matrix(df)\n",
    "    \n",
    "    # Keep track of the original missing value positions\n",
    "    missing_mask = np.isnan(mat)\n",
    "    \n",
    "    # Initial imputation (using mean value 3.0 as in the original notebook)\n",
    "    imputed_mat = impute_values(mat)\n",
    "    \n",
    "    # Iteratively refine the matrix\n",
    "    for iteration in range(max_iterations):\n",
    "        # Remember previous matrix to check for convergence\n",
    "        previous_mat = imputed_mat.copy()\n",
    "        \n",
    "        # Perform SVD and get reconstruction\n",
    "        reconstructed_mat = opt_rank_k_approximation(imputed_mat, k)\n",
    "    \n",
    "        # Update imputed matrix: keep original values, use SVD predictions for missing values\n",
    "        imputed_mat = mat.copy()\n",
    "        imputed_mat[missing_mask] = reconstructed_mat[missing_mask]\n",
    "        \n",
    "        # Check for convergence (only on the missing values)\n",
    "        diff = np.linalg.norm(reconstructed_mat[missing_mask] - previous_mat[missing_mask])\n",
    "        print(f\"Iteration {iteration+1}, Change: {diff:.6f}\")\n",
    "        \n",
    "        if diff < tolerance:\n",
    "            print(f\"Converged after {iteration+1} iterations\")\n",
    "            break\n",
    "            \n",
    "    return imputed_mat"
   ]
  },
  {
   "cell_type": "code",
   "execution_count": 20,
   "id": "16b992ab",
   "metadata": {},
   "outputs": [],
   "source": [
    "train_df, valid_df = read_data_df()"
   ]
  },
  {
   "cell_type": "code",
   "execution_count": 21,
   "id": "016e7a65",
   "metadata": {},
   "outputs": [
    {
     "name": "stdout",
     "output_type": "stream",
     "text": [
      "Iteration 1, Change: 306.592956\n",
      "Iteration 2, Change: 250.110051\n",
      "Iteration 3, Change: 209.600076\n",
      "Iteration 4, Change: 179.265182\n",
      "Iteration 5, Change: 155.794911\n",
      "Iteration 6, Change: 137.151438\n",
      "Iteration 7, Change: 122.014597\n",
      "Iteration 8, Change: 109.496081\n",
      "Iteration 9, Change: 98.979593\n",
      "Iteration 10, Change: 90.026188\n",
      "Iteration 11, Change: 82.315864\n",
      "Iteration 12, Change: 75.610372\n",
      "Iteration 13, Change: 69.728899\n",
      "Iteration 14, Change: 64.531812\n",
      "Iteration 15, Change: 59.909564\n",
      "Iteration 16, Change: 55.774967\n",
      "Iteration 17, Change: 52.057729\n",
      "Iteration 18, Change: 48.700508\n",
      "Iteration 19, Change: 45.656032\n",
      "Iteration 20, Change: 42.884956\n",
      "Iteration 21, Change: 40.354251\n",
      "Iteration 22, Change: 38.035967\n",
      "Iteration 23, Change: 35.906291\n",
      "Iteration 24, Change: 33.944797\n",
      "Iteration 25, Change: 32.133864\n",
      "Iteration 26, Change: 30.458207\n",
      "Iteration 27, Change: 28.904502\n",
      "Iteration 28, Change: 27.461081\n",
      "Iteration 29, Change: 26.117680\n",
      "Iteration 30, Change: 24.865240\n",
      "Iteration 31, Change: 23.695731\n",
      "Iteration 32, Change: 22.602012\n",
      "Iteration 33, Change: 21.577714\n",
      "Iteration 34, Change: 20.617135\n",
      "Iteration 35, Change: 19.715161\n",
      "Iteration 36, Change: 18.867190\n",
      "Iteration 37, Change: 18.069068\n",
      "Iteration 38, Change: 17.317042\n",
      "Iteration 39, Change: 16.607707\n",
      "Iteration 40, Change: 15.937972\n",
      "Iteration 41, Change: 15.305023\n",
      "Iteration 42, Change: 14.706293\n",
      "Iteration 43, Change: 14.139436\n",
      "Iteration 44, Change: 13.602305\n",
      "Iteration 45, Change: 13.092930\n",
      "Iteration 46, Change: 12.609503\n",
      "Iteration 47, Change: 12.150358\n",
      "Iteration 48, Change: 11.713962\n",
      "Iteration 49, Change: 11.298900\n",
      "Iteration 50, Change: 10.903862\n",
      "Iteration 51, Change: 10.527638\n",
      "Iteration 52, Change: 10.169107\n",
      "Iteration 53, Change: 9.827227\n",
      "Iteration 54, Change: 9.501031\n",
      "Iteration 55, Change: 9.189621\n",
      "Iteration 56, Change: 8.892159\n",
      "Iteration 57, Change: 8.607865\n",
      "Iteration 58, Change: 8.336011\n",
      "Iteration 59, Change: 8.075918\n",
      "Iteration 60, Change: 7.826949\n",
      "Iteration 61, Change: 7.588511\n",
      "Iteration 62, Change: 7.360047\n",
      "Iteration 63, Change: 7.141034\n",
      "Iteration 64, Change: 6.930983\n",
      "Iteration 65, Change: 6.729436\n",
      "Iteration 66, Change: 6.535960\n",
      "Iteration 67, Change: 6.350150\n",
      "Iteration 68, Change: 6.171624\n",
      "Iteration 69, Change: 6.000022\n",
      "Iteration 70, Change: 5.835007\n",
      "Iteration 71, Change: 5.676259\n",
      "Iteration 72, Change: 5.523477\n",
      "Iteration 73, Change: 5.376378\n",
      "Iteration 74, Change: 5.234693\n",
      "Iteration 75, Change: 5.098170\n",
      "Iteration 76, Change: 4.966568\n",
      "Iteration 77, Change: 4.839662\n",
      "Iteration 78, Change: 4.717237\n",
      "Iteration 79, Change: 4.599091\n",
      "Iteration 80, Change: 4.485032\n",
      "Iteration 81, Change: 4.374878\n",
      "Iteration 82, Change: 4.268457\n",
      "Iteration 83, Change: 4.165605\n",
      "Iteration 84, Change: 4.066168\n",
      "Iteration 85, Change: 3.969998\n",
      "Iteration 86, Change: 3.876957\n",
      "Iteration 87, Change: 3.786910\n",
      "Iteration 88, Change: 3.699734\n",
      "Iteration 89, Change: 3.615307\n",
      "Iteration 90, Change: 3.533517\n",
      "Iteration 91, Change: 3.454255\n",
      "Iteration 92, Change: 3.377419\n",
      "Iteration 93, Change: 3.302910\n",
      "Iteration 94, Change: 3.230636\n",
      "Iteration 95, Change: 3.160508\n",
      "Iteration 96, Change: 3.092441\n",
      "Iteration 97, Change: 3.026355\n",
      "Iteration 98, Change: 2.962174\n",
      "Iteration 99, Change: 2.899824\n",
      "Iteration 100, Change: 2.839236\n"
     ]
    }
   ],
   "source": [
    "# Run iterative SVD with rank k=2\n",
    "final_mat = iterative_svd(train_df, k=2, max_iterations=100, tolerance=0.0001)"
   ]
  },
  {
   "cell_type": "code",
   "execution_count": 22,
   "id": "363b02c7",
   "metadata": {},
   "outputs": [
    {
     "name": "stdout",
     "output_type": "stream",
     "text": [
      "Validation RMSE: 0.875\n"
     ]
    }
   ],
   "source": [
    "pred_fn = lambda sids, pids: matrix_pred_fn(final_mat, sids, pids)\n",
    "# Evaluate on validation data\n",
    "val_score = evaluate(valid_df, pred_fn)\n",
    "print(f\"Validation RMSE: {val_score:.3f}\")\n",
    "\n",
    "# Make submission\n",
    "make_submission(pred_fn, \"iterative_svd_submission.csv\")"
   ]
  },
  {
   "cell_type": "code",
   "execution_count": 29,
   "id": "c6646198",
   "metadata": {},
   "outputs": [],
   "source": [
    "# Read the existing submission file\n",
    "submission_df = pd.read_csv(\"iterative_svd_submission.csv\")\n",
    "\n",
    "# Round the ratings to the nearest integer\n",
    "submission_df[\"rating\"] = submission_df[\"rating\"].round()\n",
    "\n",
    "# Save to new file\n",
    "submission_df.to_csv(\"rounded_iterative_svd_submission.csv\", index=False)"
   ]
  },
  {
   "cell_type": "markdown",
   "id": "0a5ffd21",
   "metadata": {},
   "source": [
    "Iterative SVD + embeddings"
   ]
  },
  {
   "cell_type": "code",
   "execution_count": 31,
   "id": "784e6b86",
   "metadata": {},
   "outputs": [
    {
     "name": "stdout",
     "output_type": "stream",
     "text": [
      "Iteration 1, Change: 184.214738\n",
      "Iteration 2, Change: 186.573685\n",
      "Iteration 3, Change: 153.863607\n",
      "Iteration 4, Change: 250.732987\n",
      "Iteration 5, Change: 33.396587\n",
      "Iteration 6, Change: 63.176335\n",
      "Iteration 7, Change: 23.053847\n",
      "Iteration 8, Change: 189.927146\n",
      "Iteration 9, Change: 15.311589\n",
      "Iteration 10, Change: 58.111392\n",
      "Validation RMSE: 2.836\n"
     ]
    }
   ],
   "source": [
    "def iterative_svd_with_wishlist(ratings_df, wishlist_df, k=32, max_iterations=10, lambda_reg=0.1, tolerance=0.001, wishlist_weight=0.5):\n",
    "    \"\"\"\n",
    "    Performs iterative SVD incorporating wishlist data.\n",
    "    \n",
    "    Args:\n",
    "        ratings_df: DataFrame containing actual ratings\n",
    "        wishlist_df: DataFrame containing wishlist entries\n",
    "        k: Dimension of embeddings\n",
    "        max_iterations: Maximum number of iterations\n",
    "        lambda_reg: Regularization parameter\n",
    "        tolerance: Convergence threshold\n",
    "        wishlist_weight: Weight for wishlist entries (between 0 and 1)\n",
    "        \n",
    "    Returns:\n",
    "        Scientist embeddings (P), paper embeddings (Q)\n",
    "    \"\"\"\n",
    "    # Get initial matrix view with missing values\n",
    "    mat = read_data_matrix(ratings_df)\n",
    "    \n",
    "    # Create wishlist matrix\n",
    "    wishlist_mat = np.zeros_like(mat)\n",
    "    for _, row in wishlist_df.iterrows():\n",
    "        wishlist_mat[row['sid'], row['pid']] = 1\n",
    "    \n",
    "    # Keep track of the original missing value positions\n",
    "    missing_mask = np.isnan(mat)\n",
    "    \n",
    "    # Initial imputation (using mean value 3.0)\n",
    "    imputed_mat = impute_values(mat)\n",
    "    \n",
    "    # Initialize embeddings using initial SVD\n",
    "    U, S, Vh = np.linalg.svd(imputed_mat, full_matrices=False)\n",
    "    P = U[:, :k] * np.sqrt(S[:k])  # scientist embeddings\n",
    "    Q = (Vh[:k].T) * np.sqrt(S[:k])  # paper embeddings\n",
    "    \n",
    "    # Iteratively refine the embeddings\n",
    "    for iteration in range(max_iterations):\n",
    "        # Remember previous embeddings to check for convergence\n",
    "        previous_P = P.copy()\n",
    "        previous_Q = Q.copy()\n",
    "        \n",
    "        # Reconstruct matrix using current embeddings\n",
    "        reconstructed_mat = P.dot(Q.T)\n",
    "        \n",
    "        # Update missing values in the matrix\n",
    "        imputed_mat = mat.copy()\n",
    "        \n",
    "        # For missing values, use a combination of:\n",
    "        # 1. SVD reconstruction\n",
    "        # 2. Wishlist information (if available)\n",
    "        missing_values = reconstructed_mat[missing_mask]\n",
    "        wishlist_values = wishlist_mat[missing_mask]\n",
    "        \n",
    "        # Combine SVD predictions with wishlist information\n",
    "        combined_values = missing_values * (1 - wishlist_weight) + wishlist_values * wishlist_weight * 5.0\n",
    "        imputed_mat[missing_mask] = combined_values\n",
    "        \n",
    "        # Perform SVD on updated matrix\n",
    "        U, S, Vh = np.linalg.svd(imputed_mat, full_matrices=False)\n",
    "        \n",
    "        # Update embeddings with regularization\n",
    "        P = U[:, :k] * np.sqrt(S[:k])\n",
    "        Q = (Vh[:k].T) * np.sqrt(S[:k])\n",
    "        \n",
    "        # Apply regularization\n",
    "        P = P / (1 + lambda_reg)\n",
    "        Q = Q / (1 + lambda_reg)\n",
    "        \n",
    "        # Check for convergence\n",
    "        diff_P = np.linalg.norm(P - previous_P)\n",
    "        diff_Q = np.linalg.norm(Q - previous_Q)\n",
    "        total_diff = diff_P + diff_Q\n",
    "        \n",
    "        print(f\"Iteration {iteration+1}, Change: {total_diff:.6f}\")\n",
    "        \n",
    "        if total_diff < tolerance:\n",
    "            print(f\"Converged after {iteration+1} iterations\")\n",
    "            break\n",
    "    \n",
    "    return P, Q\n",
    "\n",
    "# Read the wishlist data\n",
    "wishlist_df = pd.read_csv(\"data/train_tbr.csv\")\n",
    "\n",
    "# Train the model with wishlist data\n",
    "k = 32  # embedding dimension\n",
    "lambda_reg = 0.1  # regularization parameter\n",
    "wishlist_weight = 0.5  # weight for wishlist entries\n",
    "P, Q = iterative_svd_with_wishlist(\n",
    "    train_df, \n",
    "    wishlist_df, \n",
    "    k=k, \n",
    "    lambda_reg=lambda_reg,\n",
    "    wishlist_weight=wishlist_weight\n",
    ")\n",
    "\n",
    "# Create prediction function\n",
    "pred_fn = lambda sids, pids: embedding_prediction_function(P, Q, sids, pids)\n",
    "\n",
    "# Evaluate on validation data\n",
    "val_score = evaluate(valid_df, pred_fn)\n",
    "print(f\"Validation RMSE: {val_score:.3f}\")\n",
    "\n",
    "# Make submission\n",
    "make_submission(pred_fn, \"iterative_svd_wishlist_submission.csv\")"
   ]
  },
  {
   "cell_type": "code",
   "execution_count": null,
   "id": "d9ec157d",
   "metadata": {},
   "outputs": [],
   "source": []
  },
  {
   "cell_type": "markdown",
   "id": "4d769878",
   "metadata": {},
   "source": [
    "ALS"
   ]
  },
  {
   "cell_type": "code",
   "execution_count": 23,
   "id": "8326b15c",
   "metadata": {},
   "outputs": [],
   "source": [
    "def als_matrix_factorization(df, k=10, lambda_reg=0.1, max_iterations=20, tolerance=0.001):\n",
    "    \"\"\"\n",
    "    Perform Alternating Least Squares matrix factorization with regularization.\n",
    "    \n",
    "    Args:\n",
    "        df: DataFrame containing ratings\n",
    "        k: Number of latent factors\n",
    "        lambda_reg: Regularization parameter for Frobenius norm\n",
    "        max_iterations: Maximum number of iterations\n",
    "        tolerance: Convergence threshold\n",
    "        \n",
    "    Returns:\n",
    "        Scientist factors matrix (P), paper factors matrix (Q)\n",
    "    \"\"\"\n",
    "    # Convert DataFrame to a sparse matrix format for efficient computation\n",
    "    ratings_matrix = df.pivot(index=\"sid\", columns=\"pid\", values=\"rating\")\n",
    "    \n",
    "    # Get dimensions\n",
    "    num_scientists = ratings_matrix.shape[0]\n",
    "    num_papers = ratings_matrix.shape[1]\n",
    "    \n",
    "    # Create mask for observed ratings\n",
    "    mask = ~np.isnan(ratings_matrix.values)\n",
    "    \n",
    "    # Initialize factor matrices randomly\n",
    "    P = np.random.normal(scale=0.1, size=(num_scientists, k))\n",
    "    Q = np.random.normal(scale=0.1, size=(num_papers, k))\n",
    "    \n",
    "    # Keep track of scientists and papers indices for mapping back\n",
    "    scientist_indices = ratings_matrix.index\n",
    "    paper_indices = ratings_matrix.columns\n",
    "    \n",
    "    # Initialize progress tracking\n",
    "    previous_loss = float('inf')\n",
    "    \n",
    "    for iteration in range(max_iterations):\n",
    "        # Step 1: Fix Q and solve for P\n",
    "        for i in range(num_scientists):\n",
    "            # Find papers rated by scientist i\n",
    "            paper_idx = np.where(mask[i])[0]\n",
    "            if len(paper_idx) == 0:\n",
    "                continue\n",
    "                \n",
    "            # Extract ratings and corresponding paper factors\n",
    "            ratings = ratings_matrix.iloc[i, paper_idx].values\n",
    "            Q_i = Q[paper_idx]\n",
    "            \n",
    "            # Solve regularized least squares: (Q_i^T Q_i + λI)^-1 Q_i^T r_i\n",
    "            A = Q_i.T.dot(Q_i) + lambda_reg * np.eye(k)\n",
    "            b = Q_i.T.dot(ratings)\n",
    "            P[i] = np.linalg.solve(A, b)\n",
    "        \n",
    "        # Step 2: Fix P and solve for Q\n",
    "        for j in range(num_papers):\n",
    "            # Find scientists who rated paper j\n",
    "            scientist_idx = np.where(mask[:, j])[0]\n",
    "            if len(scientist_idx) == 0:\n",
    "                continue\n",
    "                \n",
    "            # Extract ratings and corresponding scientist factors\n",
    "            ratings = ratings_matrix.iloc[scientist_idx, j].values\n",
    "            P_j = P[scientist_idx]\n",
    "            \n",
    "            # Solve regularized least squares: (P_j^T P_j + λI)^-1 P_j^T r_j\n",
    "            A = P_j.T.dot(P_j) + lambda_reg * np.eye(k)\n",
    "            b = P_j.T.dot(ratings)\n",
    "            Q[j] = np.linalg.solve(A, b)\n",
    "        \n",
    "        # Compute current loss\n",
    "        predicted = P.dot(Q.T)\n",
    "        error = mask * (ratings_matrix.values - predicted)**2\n",
    "        current_loss = np.sum(error) + lambda_reg * (np.sum(P**2) + np.sum(Q**2))\n",
    "        \n",
    "        print(f\"Iteration {iteration+1}, Loss: {current_loss:.4f}\")\n",
    "        \n",
    "        # Check for convergence\n",
    "        if abs(previous_loss - current_loss) < tolerance:\n",
    "            print(f\"Converged after {iteration+1} iterations\")\n",
    "            break\n",
    "            \n",
    "        previous_loss = current_loss\n",
    "    \n",
    "    # Create a mapping from original indices to matrix positions\n",
    "    sid_to_idx = {sid: i for i, sid in enumerate(scientist_indices)}\n",
    "    pid_to_idx = {pid: j for j, pid in enumerate(paper_indices)}\n",
    "    \n",
    "    return P, Q, sid_to_idx, pid_to_idx"
   ]
  },
  {
   "cell_type": "code",
   "execution_count": 24,
   "id": "b0a94912",
   "metadata": {},
   "outputs": [
    {
     "name": "stdout",
     "output_type": "stream",
     "text": [
      "Iteration 1, Loss: nan\n",
      "Iteration 2, Loss: nan\n",
      "Iteration 3, Loss: nan\n",
      "Iteration 4, Loss: nan\n",
      "Iteration 5, Loss: nan\n",
      "Iteration 6, Loss: nan\n",
      "Iteration 7, Loss: nan\n",
      "Iteration 8, Loss: nan\n",
      "Iteration 9, Loss: nan\n",
      "Iteration 10, Loss: nan\n",
      "Iteration 11, Loss: nan\n",
      "Iteration 12, Loss: nan\n",
      "Iteration 13, Loss: nan\n",
      "Iteration 14, Loss: nan\n",
      "Iteration 15, Loss: nan\n",
      "Iteration 16, Loss: nan\n",
      "Iteration 17, Loss: nan\n",
      "Iteration 18, Loss: nan\n",
      "Iteration 19, Loss: nan\n",
      "Iteration 20, Loss: nan\n",
      "Validation RMSE: 0.991\n"
     ]
    }
   ],
   "source": [
    "# Train the ALS model\n",
    "k = 20  # number of latent factors\n",
    "lambda_reg = 0.1  # regularization parameter\n",
    "P, Q, sid_to_idx, pid_to_idx = als_matrix_factorization(train_df, k=k, lambda_reg=lambda_reg)\n",
    "\n",
    "# Create a prediction function\n",
    "def als_prediction_function(sids, pids):\n",
    "    predictions = []\n",
    "    for sid, pid in zip(sids, pids):\n",
    "        # Handle cases where we haven't seen the scientist or paper in training\n",
    "        if sid not in sid_to_idx or pid not in pid_to_idx:\n",
    "            predictions.append(3.0)  # default prediction\n",
    "            continue\n",
    "            \n",
    "        i = sid_to_idx[sid]\n",
    "        j = pid_to_idx[pid]\n",
    "        \n",
    "        # Calculate prediction as dot product of factors\n",
    "        pred = np.dot(P[i], Q[j])\n",
    "        \n",
    "        # Clamp predictions to rating range [1, 5]\n",
    "        pred = max(1, min(5, pred))\n",
    "        predictions.append(pred)\n",
    "    \n",
    "    return np.array(predictions)\n",
    "\n",
    "# Evaluate on validation data\n",
    "val_score = evaluate(valid_df, als_prediction_function)\n",
    "print(f\"Validation RMSE: {val_score:.3f}\")\n",
    "\n",
    "# Make submission\n",
    "make_submission(als_prediction_function, \"als_submission.csv\")"
   ]
  }
 ],
 "metadata": {
  "kernelspec": {
   "display_name": "Python 3 (ipykernel)",
   "language": "python",
   "name": "python3"
  },
  "language_info": {
   "codemirror_mode": {
    "name": "ipython",
    "version": 3
   },
   "file_extension": ".py",
   "mimetype": "text/x-python",
   "name": "python",
   "nbconvert_exporter": "python",
   "pygments_lexer": "ipython3",
   "version": "3.12.9"
  }
 },
 "nbformat": 4,
 "nbformat_minor": 5
}
